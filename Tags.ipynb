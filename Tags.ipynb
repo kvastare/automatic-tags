{
 "cells": [
  {
   "cell_type": "code",
   "execution_count": 1,
   "metadata": {},
   "outputs": [
    {
     "name": "stderr",
     "output_type": "stream",
     "text": [
      "C:\\Anaconda\\envs\\python2\\lib\\site-packages\\nltk\\twitter\\__init__.py:20: UserWarning: The twython library has not been installed. Some functionality from the twitter package will not be available.\n",
      "  warnings.warn(\"The twython library has not been installed. \"\n"
     ]
    }
   ],
   "source": [
    "import csv\n",
    "import sys\n",
    "import numpy as np\n",
    "from sklearn.naive_bayes import GaussianNB\n",
    "import urllib\n",
    "import random\n",
    "from sklearn.preprocessing import LabelEncoder  \n",
    "from sklearn.ensemble import RandomForestRegressor\n",
    "from sklearn.metrics import mean_squared_error\n",
    "import matplotlib.pyplot as plt\n",
    "from sklearn.pipeline import Pipeline, FeatureUnion\n",
    "from numpy import genfromtxt\n",
    "import sklearn\n",
    "%matplotlib inline\n",
    "from sklearn.metrics import mean_absolute_error\n",
    "import json\n",
    "import os\n",
    "import scipy.optimize\n",
    "from math import exp\n",
    "from math import log\n",
    "import nltk.classify.util\n",
    "from nltk.classify import NaiveBayesClassifier\n",
    "from nltk.corpus import movie_reviews\n",
    "from nltk.sentiment.vader import SentimentIntensityAnalyzer\n",
    "from collections import defaultdict\n",
    "from sklearn import linear_model\n",
    "from sklearn.linear_model import Ridge\n",
    "import re\n",
    "from sklearn.feature_extraction.text import TfidfVectorizer\n",
    "from sklearn.feature_extraction.text import CountVectorizer\n",
    "from sklearn.naive_bayes import MultinomialNB\n",
    "from sklearn.metrics import confusion_matrix\n",
    "from sklearn.svm import LinearSVC\n",
    "from sklearn.feature_extraction.text import TfidfVectorizer\n",
    "from scipy import sparse\n",
    "import string\n",
    "from sklearn.linear_model import LogisticRegression\n",
    "from sklearn.ensemble import GradientBoostingClassifier\n",
    "from sklearn.ensemble import GradientBoostingRegressor#GBM algorithm\n",
    "from sklearn.tree import DecisionTreeRegressor\n",
    "from sklearn.ensemble import AdaBoostRegressor\n",
    "from sklearn.svm import SVC\n",
    "from sklearn.linear_model import SGDClassifier\n",
    "from sklearn.naive_bayes import GaussianNB\n",
    "from sklearn.neighbors import KNeighborsClassifier\n",
    "from sklearn.metrics import f1_score\n",
    "from sklearn.preprocessing import MultiLabelBinarizer\n",
    "import random\n",
    "from sklearn.multiclass import OneVsRestClassifier\n",
    "from sklearn.svm import LinearSVC\n",
    "from sklearn.feature_extraction.text import TfidfTransformer\n"
   ]
  },
  {
   "cell_type": "code",
   "execution_count": 2,
   "metadata": {},
   "outputs": [
    {
     "name": "stdout",
     "output_type": "stream",
     "text": [
      "9223372036854775807\n"
     ]
    }
   ],
   "source": [
    "#Reading question data\n",
    "op = []\n",
    "print sys.maxsize\n",
    "#csv.field_size_limit(sys.maxsize)\n",
    "with open('../Questions.csv', 'rb') as csvfile:\n",
    "    spamreader = csv.reader(csvfile)\n",
    "    for row in spamreader:\n",
    "        op.append(row)"
   ]
  },
  {
   "cell_type": "code",
   "execution_count": 9,
   "metadata": {},
   "outputs": [],
   "source": [
    "myFile = open('../Questions_first_100.csv', 'w')  \n",
    "with myFile:  \n",
    "   writer = csv.writer(myFile)\n",
    "   writer.writerows(op[0:100])"
   ]
  },
  {
   "cell_type": "code",
   "execution_count": 11,
   "metadata": {},
   "outputs": [],
   "source": [
    "#Reading tags data\n",
    "tags = []\n",
    "with open('../Tags.csv', 'rb') as csvfile:\n",
    "    spamreader = csv.reader(csvfile)\n",
    "    for row in spamreader:\n",
    "        tags.append(row)"
   ]
  },
  {
   "cell_type": "code",
   "execution_count": 12,
   "metadata": {
    "collapsed": true
   },
   "outputs": [],
   "source": [
    "myFile = open('../Tags_first_100.csv', 'w')  \n",
    "with myFile:  \n",
    "   writer = csv.writer(myFile)\n",
    "   writer.writerows(tags[0:100])"
   ]
  },
  {
   "cell_type": "code",
   "execution_count": 13,
   "metadata": {
    "collapsed": true
   },
   "outputs": [],
   "source": [
    "tagMod = tags[1:]\n",
    "tagList = defaultdict(list)\n",
    "countList = defaultdict(int)\n",
    "for tag in tagMod:\n",
    "    tagList[tag[0]].append(tag[1])\n",
    "    countList[tag[1]]+=1\n",
    "\n",
    "counts = [(countList[tag],tag) for tag in countList]\n",
    "counts.sort()\n",
    "counts.reverse()\n",
    "finalTags = [x[1] for x in counts[0:500]]"
   ]
  },
  {
   "cell_type": "code",
   "execution_count": 14,
   "metadata": {
    "collapsed": true
   },
   "outputs": [],
   "source": [
    "qlist = []\n",
    "finaldatax = []\n",
    "quest_tag_dict = {}\n",
    "for data in op:\n",
    "    tags = tagList[data[0]]\n",
    "    if len(list(set(tags) & set(finalTags))) == len(list(set(tags))) and len(list(set(tags))) > 0 :\n",
    "        quest_tag_dict[data[0]] = list(set(tags) & set(finalTags))\n",
    "        finaldatax.append(data)\n",
    "random.shuffle(finaldatax)"
   ]
  },
  {
   "cell_type": "code",
   "execution_count": 15,
   "metadata": {
    "collapsed": true
   },
   "outputs": [],
   "source": [
    "punctuation = set(string.punctuation)"
   ]
  },
  {
   "cell_type": "code",
   "execution_count": 16,
   "metadata": {
    "collapsed": true
   },
   "outputs": [],
   "source": [
    "finaldata = finaldatax[:300000]"
   ]
  },
  {
   "cell_type": "code",
   "execution_count": 17,
   "metadata": {
    "collapsed": true
   },
   "outputs": [],
   "source": [
    "def getY(data):\n",
    "    Y = np.zeros((len(data),len(finalTags)))\n",
    "    i = 0\n",
    "    for d in data:\n",
    "        for tag in finalTags:\n",
    "            if tag in tagList[d[0]]:\n",
    "                Y[i][tag_to_ix[tag]] = 1\n",
    "        i+=1\n",
    "    return Y"
   ]
  },
  {
   "cell_type": "code",
   "execution_count": 18,
   "metadata": {
    "collapsed": true
   },
   "outputs": [],
   "source": [
    "tag_to_ix = { ch:i for i,ch in enumerate(finalTags) }\n",
    "ix_to_tag = { i:ch for i,ch in enumerate(finalTags) }\n",
    "tagID = dict(zip(finalTags,range(len(finalTags))))\n",
    "def feature(datum):\n",
    "    feat = [0]*20\n",
    "    words = datum[5].split()\n",
    "    body = datum[6].split()\n",
    "    words.extend(body)\n",
    "    for w in words:\n",
    "        if w in finalTags:\n",
    "            feat[tagID[w]]+=1\n",
    "    return feat\n",
    "\n",
    "def getFeatures(data):\n",
    "    X = [feature(d) for d in data]\n",
    "    return X"
   ]
  },
  {
   "cell_type": "code",
   "execution_count": 19,
   "metadata": {
    "collapsed": true
   },
   "outputs": [],
   "source": [
    "def getMse(prediction_actual,prediction_test):\n",
    "    mse=[]\n",
    "    for tag in finalTags:\n",
    "        me=mean_absolute_error(prediction_test[:,tag_to_ix[tag]],prediction_actual[:,tag_to_ix[tag]])\n",
    "        mse.append(me)\n",
    "    return sum(mse)/(len(mse))   \n",
    "\n",
    "def getPrecisionRecall(Y, k):\n",
    "    prec = []\n",
    "    rec = []\n",
    "    f1 = []\n",
    "    for x in Y:\n",
    "        temp = x[:k]\n",
    "        p = sum(i[1] for i in temp) * 1.0 / k\n",
    "        r = sum(i[1] for i in temp) * 1.0 / sum(i[1] for i in x)\n",
    "        if p+r <= 0:\n",
    "            f = 0\n",
    "        else:\n",
    "            f = 2*p*r*1.0/(p+r)\n",
    "        prec.append(p)\n",
    "        rec.append(r)\n",
    "        f1.append(f)\n",
    "    return prec, rec, f1"
   ]
  },
  {
   "cell_type": "code",
   "execution_count": 20,
   "metadata": {
    "collapsed": true
   },
   "outputs": [],
   "source": [
    "data_train = finaldata[:int(0.75*len(finaldata))]\n",
    "data_test = finaldata[int(0.75*len(finaldata)):]"
   ]
  },
  {
   "cell_type": "code",
   "execution_count": 21,
   "metadata": {
    "collapsed": true
   },
   "outputs": [],
   "source": [
    "X_train = [(x[5] + \" \" + x[6]).lower() for x in data_train]\n",
    "X_test = [(x[5]+ \" \" + x[6]).lower() for x in data_test]"
   ]
  },
  {
   "cell_type": "code",
   "execution_count": null,
   "metadata": {},
   "outputs": [
    {
     "name": "stdout",
     "output_type": "stream",
     "text": [
      "Shapes\n",
      "(225000L,)\n",
      "(225000L, 500L)\n",
      "(75000L,)\n",
      "(75000L, 500L)\n"
     ]
    }
   ],
   "source": [
    "X_train = np.array(X_train)\n",
    "X_test = np.array(X_test)\n",
    "Y_train = getY(data_train)\n",
    "Y_test = getY(data_test)\n",
    "\n",
    "print \"Shapes\"\n",
    "print X_train.shape\n",
    "print Y_train.shape\n",
    "print X_test.shape\n",
    "print Y_test.shape"
   ]
  },
  {
   "cell_type": "code",
   "execution_count": null,
   "metadata": {},
   "outputs": [
    {
     "name": "stderr",
     "output_type": "stream",
     "text": [
      "C:\\Anaconda\\envs\\python2\\lib\\site-packages\\sklearn\\linear_model\\stochastic_gradient.py:84: FutureWarning: max_iter and tol parameters have been added in <class 'sklearn.linear_model.stochastic_gradient.SGDClassifier'> in 0.19. If both are left unset, they default to max_iter=5 and tol=None. If tol is not None, max_iter defaults to max_iter=1000. From 0.21, default max_iter will be 1000, and default tol will be 1e-3.\n",
      "  \"and default tol will be 1e-3.\" % type(self), FutureWarning)\n"
     ]
    }
   ],
   "source": [
    "classifier = Pipeline([\n",
    "    ('vectorizer', CountVectorizer(stop_words = 'english',token_pattern = '\\S+')),\n",
    "    ('tfidf', TfidfTransformer()),\n",
    "    ('clf', OneVsRestClassifier(SGDClassifier()))])\n",
    "classifier.fit(X_train, Y_train)"
   ]
  },
  {
   "cell_type": "code",
   "execution_count": null,
   "metadata": {
    "collapsed": true
   },
   "outputs": [],
   "source": [
    "predicted = classifier.predict(X_test)\n",
    "scores = classifier.decision_function(X_test)"
   ]
  },
  {
   "cell_type": "code",
   "execution_count": null,
   "metadata": {
    "collapsed": true
   },
   "outputs": [],
   "source": [
    "final_op1 = []\n",
    "i = 0\n",
    "for i in range(0,predicted.shape[0]):\n",
    "    temp = (zip(scores[i],Y_test[i],predicted[i]))\n",
    "    temp.sort()\n",
    "    temp.reverse()\n",
    "    final_op1.append(temp)"
   ]
  },
  {
   "cell_type": "code",
   "execution_count": null,
   "metadata": {
    "collapsed": true
   },
   "outputs": [],
   "source": [
    "k = 3\n",
    "prec, rec, f1 = getPrecisionRecall(final_op1, k)"
   ]
  },
  {
   "cell_type": "code",
   "execution_count": null,
   "metadata": {
    "collapsed": true
   },
   "outputs": [],
   "source": [
    "prec_mean = sum(prec)/float(len(prec))\n",
    "rec_mean = sum(rec)/float(len(rec))\n",
    "f1_mean = sum(f1)/float(len(f1))"
   ]
  },
  {
   "cell_type": "code",
   "execution_count": null,
   "metadata": {
    "collapsed": true
   },
   "outputs": [],
   "source": [
    "print \"F1 (@k) :: \", f1_mean\n",
    "print \"Recall (@k) :: \",rec_mean\n",
    "print \"Precision (@k) :: \",prec_mean\n",
    "print \"MSE :: \",getMse(Y_test,predicted)"
   ]
  },
  {
   "cell_type": "code",
   "execution_count": null,
   "metadata": {
    "collapsed": true
   },
   "outputs": [],
   "source": [
    "X_axis = []\n",
    "# F1 (@k) ::  0.412167904762\n",
    "# Recall (@k) ::  0.727331333333\n",
    "# Precision (@k) ::  0.299506666667\n",
    "# MSE ::  0.029076\n",
    "prec_axis = []\n",
    "rec_axis = []\n",
    "f1_axis = []\n",
    "for i in range(1,20):\n",
    "    X_axis.append(i)\n",
    "    prec, rec, f1 = getPrecisionRecall(final_op1, i)\n",
    "    prec_axis.append(sum(prec)/float(len(prec)))\n",
    "    rec_axis.append(sum(rec)/float(len(rec)))\n",
    "    f1_axis.append(sum(f1)/float(len(f1)))\n",
    "\n"
   ]
  },
  {
   "cell_type": "code",
   "execution_count": null,
   "metadata": {
    "collapsed": true
   },
   "outputs": [],
   "source": [
    "fig = plt.figure()\n",
    "ax = plt.axes()        \n",
    "ax.yaxis.grid(linestyle='--') # horizontal lines\n",
    "plt.xticks(range(1,21))\n",
    "plt.plot(X_axis, prec_axis)\n",
    "plt.plot(X_axis, rec_axis)\n",
    "plt.plot(X_axis, f1_axis)\n",
    "# plt.grid(linestyle='-')\n",
    "plt.legend(['Precision','Recall','F1 Score'],loc='lower left')\n",
    "fig.suptitle('Performance vs Number of predicted tags')\n",
    "plt.xlabel('Number of predicted tags')\n",
    "# plt.ylabel('Frequency')"
   ]
  },
  {
   "cell_type": "code",
   "execution_count": null,
   "metadata": {
    "collapsed": true
   },
   "outputs": [],
   "source": [
    "vectorizer = TfidfVectorizer(token_pattern='\\S+',min_df=1)\n",
    "vectorizer.fit_transform([\"kfg ufg qeufg uiefg jq.ui 78 eufg euf\",\"qkjfgqwufg qufg qu\"])"
   ]
  },
  {
   "cell_type": "code",
   "execution_count": null,
   "metadata": {
    "collapsed": true
   },
   "outputs": [],
   "source": [
    "vectorizer.get_feature_names()"
   ]
  },
  {
   "cell_type": "code",
   "execution_count": null,
   "metadata": {
    "collapsed": true
   },
   "outputs": [],
   "source": []
  }
 ],
 "metadata": {
  "anaconda-cloud": {},
  "kernelspec": {
   "display_name": "Python [conda env:python2]",
   "language": "python",
   "name": "conda-env-python2-py"
  },
  "language_info": {
   "codemirror_mode": {
    "name": "ipython",
    "version": 2
   },
   "file_extension": ".py",
   "mimetype": "text/x-python",
   "name": "python",
   "nbconvert_exporter": "python",
   "pygments_lexer": "ipython2",
   "version": "2.7.13"
  }
 },
 "nbformat": 4,
 "nbformat_minor": 2
}
